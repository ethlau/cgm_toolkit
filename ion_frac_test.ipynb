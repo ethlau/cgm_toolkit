{
 "cells": [
  {
   "cell_type": "code",
   "execution_count": 42,
   "metadata": {},
   "outputs": [],
   "source": [
    "import numpy as np\n",
    "import matplotlib.pyplot as plt\n",
    "import matplotlib\n",
    "font = {'family' : 'normal',\n",
    "        'weight' : 'bold',\n",
    "        'size'   : 18}\n",
    "\n",
    "matplotlib.rc('font', **font)\n",
    "plt.rcParams['figure.figsize'] = [8, 6]"
   ]
  },
  {
   "cell_type": "code",
   "execution_count": 61,
   "metadata": {},
   "outputs": [],
   "source": [
    "output = np.genfromtxt('../data/ion_frac_CIE.txt',delimiter=',', names=True)"
   ]
  },
  {
   "cell_type": "code",
   "execution_count": 72,
   "metadata": {},
   "outputs": [
    {
     "data": {
      "text/plain": [
       "(dtype([('T', '<f8'), ('HI', '<f8'), ('HII', '<f8'), ('HeI', '<f8'), ('HeII', '<f8'), ('HeIII', '<f8'), ('CI', '<f8'), ('CII', '<f8'), ('CIII', '<f8'), ('CIV', '<f8'), ('CV', '<f8'), ('CVI', '<f8'), ('CVII', '<f8'), ('NI', '<f8'), ('NII', '<f8'), ('NIII', '<f8'), ('NIV', '<f8'), ('NV', '<f8'), ('NVI', '<f8'), ('NVII', '<f8'), ('NVIII', '<f8'), ('OI', '<f8'), ('OII', '<f8'), ('OIII', '<f8'), ('OIV', '<f8'), ('OV', '<f8'), ('OVI', '<f8'), ('OVII', '<f8'), ('OVIII', '<f8'), ('OIX', '<f8'), ('NeI', '<f8'), ('NeII', '<f8'), ('NeIII', '<f8'), ('NeIV', '<f8'), ('NeV', '<f8'), ('NeVI', '<f8'), ('NeVII', '<f8'), ('NeVIII', '<f8'), ('NeIX', '<f8'), ('NeX', '<f8'), ('NeXI', '<f8'), ('MgI', '<f8'), ('MgII', '<f8'), ('MgIII', '<f8'), ('MgIV', '<f8'), ('MgV', '<f8'), ('MgVI', '<f8'), ('MgVII', '<f8'), ('MgVIII', '<f8'), ('MgIX', '<f8'), ('MgX', '<f8'), ('MgXI', '<f8'), ('MgXII', '<f8'), ('MgXIII', '<f8'), ('SiI', '<f8'), ('SiII', '<f8'), ('SiIII', '<f8'), ('SiIV', '<f8'), ('SiV', '<f8'), ('SiVI', '<f8'), ('SiVII', '<f8'), ('SiVIII', '<f8'), ('SiIX', '<f8'), ('SiX', '<f8'), ('SiXI', '<f8'), ('SiXII', '<f8'), ('SiXIII', '<f8'), ('SiXIV', '<f8'), ('SiXV', '<f8'), ('SI', '<f8'), ('SII', '<f8'), ('SIII', '<f8'), ('SIV', '<f8'), ('SV', '<f8'), ('SVI', '<f8'), ('SVII', '<f8'), ('SVIII', '<f8'), ('SIX', '<f8'), ('SX', '<f8'), ('SXI', '<f8'), ('SXII', '<f8'), ('SXIII', '<f8'), ('SXIV', '<f8'), ('SXV', '<f8'), ('SXVI', '<f8'), ('SXVII', '<f8'), ('FeI', '<f8'), ('FeII', '<f8'), ('FeIII', '<f8'), ('FeIV', '<f8'), ('FeV', '<f8'), ('FeVI', '<f8'), ('FeVII', '<f8'), ('FeVIII', '<f8'), ('FeIX', '<f8'), ('FeX', '<f8'), ('FeXI', '<f8'), ('FeXII', '<f8'), ('FeXIII', '<f8'), ('FeXIV', '<f8'), ('FeXV', '<f8'), ('FeXVI', '<f8'), ('FeXVII', '<f8'), ('FeXVIII', '<f8'), ('FeXIX', '<f8'), ('FeXX', '<f8'), ('FeXXI', '<f8'), ('FeXXII', '<f8'), ('FeXXIII', '<f8'), ('FeXXIV', '<f8'), ('FeXXV', '<f8'), ('FeXXVI', '<f8'), ('FeXXVII', '<f8')]),\n",
       " (200,),\n",
       " (904,))"
      ]
     },
     "execution_count": 72,
     "metadata": {},
     "output_type": "execute_result"
    }
   ],
   "source": [
    "output.dtype, output.shape, output.strides"
   ]
  },
  {
   "cell_type": "code",
   "execution_count": 73,
   "metadata": {},
   "outputs": [
    {
     "data": {
      "text/plain": [
       "array([0.00e+00, 0.00e+00, 0.00e+00, 0.00e+00, 0.00e+00, 0.00e+00,\n",
       "       0.00e+00, 0.00e+00, 0.00e+00, 0.00e+00, 0.00e+00, 0.00e+00,\n",
       "       0.00e+00, 0.00e+00, 0.00e+00, 0.00e+00, 0.00e+00, 0.00e+00,\n",
       "       0.00e+00, 0.00e+00, 0.00e+00, 0.00e+00, 0.00e+00, 0.00e+00,\n",
       "       0.00e+00, 0.00e+00, 0.00e+00, 0.00e+00, 0.00e+00, 0.00e+00,\n",
       "       0.00e+00, 0.00e+00, 0.00e+00, 0.00e+00, 0.00e+00, 0.00e+00,\n",
       "       0.00e+00, 0.00e+00, 0.00e+00, 0.00e+00, 0.00e+00, 0.00e+00,\n",
       "       0.00e+00, 0.00e+00, 0.00e+00, 0.00e+00, 0.00e+00, 0.00e+00,\n",
       "       0.00e+00, 0.00e+00, 0.00e+00, 0.00e+00, 0.00e+00, 0.00e+00,\n",
       "       0.00e+00, 0.00e+00, 0.00e+00, 0.00e+00, 0.00e+00, 0.00e+00,\n",
       "       0.00e+00, 0.00e+00, 0.00e+00, 0.00e+00, 0.00e+00, 0.00e+00,\n",
       "       0.00e+00, 0.00e+00, 0.00e+00, 0.00e+00, 0.00e+00, 0.00e+00,\n",
       "       0.00e+00, 0.00e+00, 0.00e+00, 0.00e+00, 0.00e+00, 0.00e+00,\n",
       "       0.00e+00, 0.00e+00, 0.00e+00, 0.00e+00, 0.00e+00, 0.00e+00,\n",
       "       0.00e+00, 0.00e+00, 0.00e+00, 0.00e+00, 0.00e+00, 0.00e+00,\n",
       "       0.00e+00, 0.00e+00, 0.00e+00, 0.00e+00, 0.00e+00, 0.00e+00,\n",
       "       0.00e+00, 0.00e+00, 0.00e+00, 0.00e+00, 0.00e+00, 0.00e+00,\n",
       "       0.00e+00, 0.00e+00, 0.00e+00, 0.00e+00, 0.00e+00, 0.00e+00,\n",
       "       0.00e+00, 0.00e+00, 0.00e+00, 0.00e+00, 0.00e+00, 0.00e+00,\n",
       "       0.00e+00, 0.00e+00, 0.00e+00, 0.00e+00, 0.00e+00, 0.00e+00,\n",
       "       0.00e+00, 0.00e+00, 0.00e+00, 0.00e+00, 0.00e+00, 0.00e+00,\n",
       "       0.00e+00, 0.00e+00, 0.00e+00, 0.00e+00, 0.00e+00, 0.00e+00,\n",
       "       0.00e+00, 0.00e+00, 0.00e+00, 0.00e+00, 0.00e+00, 0.00e+00,\n",
       "       0.00e+00, 0.00e+00, 0.00e+00, 0.00e+00, 0.00e+00, 0.00e+00,\n",
       "       0.00e+00, 1.81e-05, 5.50e-05, 1.39e-04, 3.29e-04, 7.38e-04,\n",
       "       1.56e-03, 3.15e-03, 5.99e-03, 1.08e-02, 1.85e-02, 3.00e-02,\n",
       "       4.64e-02, 6.82e-02, 9.59e-02, 1.29e-01, 1.67e-01, 2.09e-01,\n",
       "       2.52e-01, 2.97e-01, 3.41e-01, 3.84e-01, 4.24e-01, 4.63e-01,\n",
       "       4.98e-01, 5.31e-01, 5.61e-01, 5.88e-01, 6.13e-01, 6.35e-01,\n",
       "       6.55e-01, 6.72e-01, 6.87e-01, 7.01e-01, 7.12e-01, 7.21e-01,\n",
       "       7.27e-01, 7.33e-01, 7.35e-01, 7.35e-01, 7.33e-01, 7.29e-01,\n",
       "       7.23e-01, 7.15e-01, 7.05e-01, 6.92e-01, 6.77e-01, 6.60e-01,\n",
       "       6.41e-01, 6.20e-01, 5.97e-01, 5.73e-01, 5.47e-01, 5.21e-01,\n",
       "       4.95e-01, 4.68e-01])"
      ]
     },
     "execution_count": 73,
     "metadata": {},
     "output_type": "execute_result"
    }
   ],
   "source": [
    "output['FeXXV']"
   ]
  },
  {
   "cell_type": "code",
   "execution_count": 30,
   "metadata": {},
   "outputs": [],
   "source": [
    "ion_frac = {}"
   ]
  },
  {
   "cell_type": "code",
   "execution_count": null,
   "metadata": {},
   "outputs": [],
   "source": [
    "HI,HII,HeI,HeII,HeIII,CI,CII,CIII,CIV,CV,CVI,CVII,NI,NII,NIII,NIV,NV,NVI,NVII,NVIII,OI,OII,OIII,OIV,OV,OVI,OVII,OVIII,OIX,NeI,NeII,NeIII,NeIV,NeV,NeVI,NeVII,NeVIII,NeIX,NeX,NeXI,MgI,MgII,MgIII,MgIV,MgV,MgVI,MgVII,MgVIII,MgIX,MgX,MgXI,MgXII,MgXIII,SiI,SiII,SiIII,SiIV,SiV,SiVI,SiVII,SiVIII,SiIX,SiX,SiXI,SiXII,SiXIII,SiXIV,SiXV,SI,SII,SIII,SIV,SV,SVI,SVII,SVIII,SIX,SX,SXI,SXII,SXIII,SXIV,SXV,SXVI,SXVII,FeI,FeII,FeIII,FeIV,FeV,FeVI,FeVII,FeVIII,FeIX,FeX,FeXI,FeXII,FeXIII,FeXIV,FeXV,FeXVI,FeXVII,FeXVIII,FeXIX,FeXX,FeXXI,FeXXII,FeXXIII,FeXIV,FeXV,FeXVI,FeXVII"
   ]
  }
 ],
 "metadata": {
  "kernelspec": {
   "display_name": "Python 3",
   "language": "python",
   "name": "python3"
  },
  "language_info": {
   "codemirror_mode": {
    "name": "ipython",
    "version": 3
   },
   "file_extension": ".py",
   "mimetype": "text/x-python",
   "name": "python",
   "nbconvert_exporter": "python",
   "pygments_lexer": "ipython3",
   "version": "3.9.7"
  }
 },
 "nbformat": 4,
 "nbformat_minor": 4
}

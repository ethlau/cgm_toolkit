{
 "cells": [
  {
   "cell_type": "code",
   "execution_count": 1,
   "metadata": {},
   "outputs": [],
   "source": [
    "import numpy as np\n",
    "import matplotlib.pyplot as plt\n",
    "import matplotlib\n",
    "font = {'family' : 'normal',\n",
    "        'weight' : 'bold',\n",
    "        'size'   : 18}\n",
    "\n",
    "matplotlib.rc('font', **font)\n",
    "plt.rcParams['figure.figsize'] = [8, 6]\n",
    "from matplotlib.colors import LogNorm\n"
   ]
  },
  {
   "cell_type": "code",
   "execution_count": 2,
   "metadata": {},
   "outputs": [],
   "source": [
    "import xray_emissivity"
   ]
  },
  {
   "cell_type": "code",
   "execution_count": 3,
   "metadata": {},
   "outputs": [],
   "source": [
    "# eROSITA repsonse files from https://wiki.mpe.mpg.de/eRosita/erocalib_calibration\n",
    "rmffile = './responses/rmf01_sdtq.fits'\n",
    "arffile = './responses/arf01_200nmAl_sdtq.fits'\n",
    "xray = xray_emissivity.XrayEmissivity(energy_range=[0.01,2.0], num_ebins=101, rmf=rmffile, arf=arffile )"
   ]
  },
  {
   "cell_type": "code",
   "execution_count": 4,
   "metadata": {},
   "outputs": [
    {
     "name": "stdout",
     "output_type": "stream",
     "text": [
      "Will not thermally broaden lines\n",
      "Will thermally broaden lines with emissivity > 1.000000e-18 ph cm3 s-1\n",
      "Saving emissivity table as etable_erosita.hdf5\n"
     ]
    }
   ],
   "source": [
    "xray.tabulate_xray_emissivity()\n",
    "\n",
    "# Save table as file \"etable.hdf5\"\n",
    "xray.save_emissivity_table(\"etable_erosita\")"
   ]
  },
  {
   "cell_type": "code",
   "execution_count": 5,
   "metadata": {},
   "outputs": [
    {
     "name": "stdout",
     "output_type": "stream",
     "text": [
      "0.1 12.0\n"
     ]
    }
   ],
   "source": [
    "# Read table from file\n",
    "\n",
    "xray.read_emissivity_table('etable_erosita.hdf5')\n",
    "print (xray.emin, xray.emax)"
   ]
  },
  {
   "cell_type": "code",
   "execution_count": 6,
   "metadata": {},
   "outputs": [],
   "source": [
    "# Set up interpolation. Need to run this step! \n",
    "xray.setup_interpolated_emissivity_table()"
   ]
  },
  {
   "cell_type": "code",
   "execution_count": 7,
   "metadata": {},
   "outputs": [
    {
     "name": "stdout",
     "output_type": "stream",
     "text": [
      "-1.2503245640988449e-17\n"
     ]
    }
   ],
   "source": [
    "emiss = xray.return_interpolated_emissivity(0.018, 0.2)\n",
    "print (emiss)"
   ]
  },
  {
   "cell_type": "code",
   "execution_count": 8,
   "metadata": {},
   "outputs": [
    {
     "name": "stderr",
     "output_type": "stream",
     "text": [
      "<ipython-input-8-ccf987ec7bc6>:11: RuntimeWarning: divide by zero encountered in log10\n",
      "  c = ax.imshow(np.log10(xray.etable.T), origin=\"lower\", extent=extent, aspect='auto')\n"
     ]
    },
    {
     "data": {
      "image/png": "[encoded data removed]",
      "text/plain": [
       "<Figure size 576x432 with 2 Axes>"
      ]
     },
     "metadata": {
      "needs_background": "light"
     },
     "output_type": "display_data"
    }
   ],
   "source": [
    "# Plot showing the emissivity table\n",
    "\n",
    "ltbins = np.log10(xray.tbins)\n",
    "lzbins = np.log10(xray.zbins)\n",
    "dx = (ltbins[1]-ltbins[0])/2.\n",
    "dy = (lzbins[1]-lzbins[0])/2.\n",
    "extent = [ltbins[0]-dx, ltbins[-1]+dx, lzbins[0]-dy, lzbins[-1]+dy]\n",
    "\n",
    "fig, ax= plt.subplots()\n",
    "\n",
    "c = ax.imshow(np.log10(xray.etable.T), origin=\"lower\", extent=extent, aspect='auto')\n",
    "plt.colorbar(c)\n",
    "\n",
    "ax.set_xlabel(r'$\\log_{10}(T\\,[{\\rm keV}])$')\n",
    "ax.set_ylabel(r'$\\log_{10}Z/Z_\\odot$')\n",
    "#ax.set_title(r'$\\log_{10}\\Lambda_{X}(0.01-2\\,{\\rm keV})[{\\rm erg\\,s^{-1}cm^3}]$')\n",
    "ax.set_title(r'$\\log_{10}\\Lambda_{X}({\\rm eROSITA})[{\\rm erg\\,s^{-1}cm^5}]$')\n",
    "\n",
    "\n",
    "plt.tight_layout()\n",
    "plt.show()"
   ]
  },
  {
   "cell_type": "code",
   "execution_count": null,
   "metadata": {},
   "outputs": [],
   "source": []
  }
 ],
 "metadata": {
  "kernelspec": {
   "display_name": "Python 3",
   "language": "python",
   "name": "python3"
  },
  "language_info": {
   "codemirror_mode": {
    "name": "ipython",
    "version": 3
   },
   "file_extension": ".py",
   "mimetype": "text/x-python",
   "name": "python",
   "nbconvert_exporter": "python",
   "pygments_lexer": "ipython3",
   "version": "3.9.4"
  }
 },
 "nbformat": 4,
 "nbformat_minor": 4
}

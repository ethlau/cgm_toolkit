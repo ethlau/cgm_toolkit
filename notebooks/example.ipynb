{
 "cells": [
  {
   "cell_type": "code",
   "execution_count": 4,
   "metadata": {},
   "outputs": [
    {
     "name": "stdout",
     "output_type": "stream",
     "text": [
      "The autoreload extension is already loaded. To reload it, use:\n",
      "  %reload_ext autoreload\n"
     ]
    }
   ],
   "source": [
    "%load_ext autoreload\n",
    "%autoreload 2\n",
    "\n",
    "import numpy as np\n",
    "import matplotlib.pyplot as plt\n",
    "import matplotlib\n",
    "font = {'family' : 'normal',\n",
    "        'weight' : 'bold',\n",
    "        'size'   : 18}\n",
    "\n",
    "matplotlib.rc('font', **font)\n",
    "plt.rcParams['figure.figsize'] = [8, 6]"
   ]
  },
  {
   "cell_type": "code",
   "execution_count": 5,
   "metadata": {},
   "outputs": [],
   "source": [
    "import xray_emissivity"
   ]
  },
  {
   "cell_type": "code",
   "execution_count": 8,
   "metadata": {},
   "outputs": [],
   "source": [
    "# eROSITA repsonse files from https://wiki.mpe.mpg.de/eRosita/erocalib_calibration\n",
    "rmffile = './responses/rmf01_sdtq.fits'\n",
    "arffile = './responses/arf01_200nmAl_sdtq.fits'\n",
    "#xray = xray_emissivity.XrayEmissivity(energy_range=[0.01,12.0], num_ebins=101, rmf=rmffile, arf=arffile, \n",
    "#                                        use_energy_unit=True)\n",
    "xray = xray_emissivity.XrayEmissivity(energy_range=[0.01,12.0], num_ebins=101, rmf=None, arf=None, \n",
    "                                      use_energy_unit=True )\n",
    "xray_cnts = xray_emissivity.XrayEmissivity(energy_range=[0.01,12.0], num_ebins=101, rmf=None, arf=None, \n",
    "                                      use_energy_unit=False )"
   ]
  },
  {
   "cell_type": "code",
   "execution_count": 9,
   "metadata": {},
   "outputs": [
    {
     "name": "stderr",
     "output_type": "stream",
     "text": [
      "\r",
      "  0%|          | 0/101 [00:00<?, ?it/s]"
     ]
    },
    {
     "name": "stdout",
     "output_type": "stream",
     "text": [
      "Will not thermally broaden lines\n",
      "Will thermally broaden lines with emissivity > 1.000000e-18 ph cm3 s-1\n",
      "Computing X-ray spectrum without instrumental response\n"
     ]
    },
    {
     "name": "stderr",
     "output_type": "stream",
     "text": [
      "100%|██████████| 101/101 [05:04<00:00,  3.02s/it]\n"
     ]
    },
    {
     "name": "stdout",
     "output_type": "stream",
     "text": [
      "Saving emissivity table as ./data/etable_001_12keV.hdf5\n"
     ]
    },
    {
     "name": "stderr",
     "output_type": "stream",
     "text": [
      "\r",
      "  0%|          | 0/101 [00:00<?, ?it/s]"
     ]
    },
    {
     "name": "stdout",
     "output_type": "stream",
     "text": [
      "Will not thermally broaden lines\n",
      "Will thermally broaden lines with emissivity > 1.000000e-18 ph cm3 s-1\n",
      "Computing X-ray spectrum without instrumental response\n"
     ]
    },
    {
     "name": "stderr",
     "output_type": "stream",
     "text": [
      "100%|██████████| 101/101 [04:38<00:00,  2.76s/it]"
     ]
    },
    {
     "name": "stdout",
     "output_type": "stream",
     "text": [
      "Saving emissivity table as ./data/etable_001_12keV_cnts.hdf5\n"
     ]
    },
    {
     "name": "stderr",
     "output_type": "stream",
     "text": [
      "\n"
     ]
    }
   ],
   "source": [
    "xray.tabulate_xray_emissivity(temperature_range=[0.000862, 30.0], metallicity_range=[0.001, 10.0], \n",
    "                              num_tbins=101, num_zbins=21, nH=2.0 )\n",
    "xray.save_emissivity_table(\"./data/etable_001_12keV\")\n",
    "\n",
    "xray_cnts.tabulate_xray_emissivity(temperature_range=[0.000862, 30.0], metallicity_range=[0.001, 10.0], \n",
    "                              num_tbins=101, num_zbins=21, nH=2.0 )\n",
    "xray_cnts.save_emissivity_table(\"./data/etable_001_12keV_cnts\")\n"
   ]
  },
  {
   "cell_type": "code",
   "execution_count": 15,
   "metadata": {},
   "outputs": [
    {
     "name": "stderr",
     "output_type": "stream",
     "text": [
      "\r",
      "  0%|          | 0/101 [00:00<?, ?it/s]"
     ]
    },
    {
     "name": "stdout",
     "output_type": "stream",
     "text": [
      "Will not thermally broaden lines\n",
      "Will thermally broaden lines with emissivity > 1.000000e-18 ph cm3 s-1\n",
      "Computing X-ray spectrum without instrumental response\n"
     ]
    },
    {
     "name": "stderr",
     "output_type": "stream",
     "text": [
      "100%|██████████| 101/101 [04:44<00:00,  2.82s/it]\n",
      "  0%|          | 0/101 [00:00<?, ?it/s]"
     ]
    },
    {
     "name": "stdout",
     "output_type": "stream",
     "text": [
      "Will not thermally broaden lines\n",
      "Will thermally broaden lines with emissivity > 1.000000e-18 ph cm3 s-1\n",
      "Computing X-ray spectrum without instrumental response\n"
     ]
    },
    {
     "name": "stderr",
     "output_type": "stream",
     "text": [
      "100%|██████████| 101/101 [04:32<00:00,  2.69s/it]\n"
     ]
    }
   ],
   "source": [
    "xray_soft = xray_emissivity.XrayEmissivity(energy_range=[0.01,0.5], num_ebins=101, rmf=None, arf=None, \n",
    "                                      use_energy_unit=True )\n",
    "xray_soft_cnts = xray_emissivity.XrayEmissivity(energy_range=[0.01,0.5], num_ebins=101, rmf=None, arf=None, \n",
    "                                      use_energy_unit=False )\n",
    "\n",
    "xray_soft.tabulate_xray_emissivity(temperature_range=[0.000862, 30.0], metallicity_range=[0.001, 10.0], \n",
    "                              num_tbins=101, num_zbins=21, nH=2.0 )\n",
    "\n",
    "xray_soft_cnts.tabulate_xray_emissivity(temperature_range=[0.000862, 30.0], metallicity_range=[0.001, 10.0], \n",
    "                              num_tbins=101, num_zbins=21, nH=2.0 )\n"
   ]
  },
  {
   "cell_type": "code",
   "execution_count": 16,
   "metadata": {},
   "outputs": [
    {
     "name": "stdout",
     "output_type": "stream",
     "text": [
      "Saving emissivity table as ./data/etable_001_05keV.hdf5\n",
      "Saving emissivity table as ./data/etable_001_05keV_cnts.hdf5\n"
     ]
    }
   ],
   "source": [
    "xray_soft.save_emissivity_table(\"./data/etable_001_05keV\")\n",
    "xray_soft_cnts.save_emissivity_table(\"./data/etable_001_05keV_cnts\")"
   ]
  },
  {
   "cell_type": "code",
   "execution_count": 11,
   "metadata": {},
   "outputs": [
    {
     "name": "stderr",
     "output_type": "stream",
     "text": [
      "\r",
      "  0%|          | 0/101 [00:00<?, ?it/s]"
     ]
    },
    {
     "name": "stdout",
     "output_type": "stream",
     "text": [
      "Will not thermally broaden lines\n",
      "Will thermally broaden lines with emissivity > 1.000000e-18 ph cm3 s-1\n",
      "Computing X-ray spectrum without instrumental response\n"
     ]
    },
    {
     "name": "stderr",
     "output_type": "stream",
     "text": [
      "  0%|          | 0/101 [00:04<?, ?it/s]\n"
     ]
    },
    {
     "ename": "KeyboardInterrupt",
     "evalue": "",
     "output_type": "error",
     "traceback": [
      "\u001b[0;31m---------------------------------------------------------------------------\u001b[0m",
      "\u001b[0;31mKeyboardInterrupt\u001b[0m                         Traceback (most recent call last)",
      "\u001b[0;32m<ipython-input-11-2084b5233a50>\u001b[0m in \u001b[0;36m<module>\u001b[0;34m\u001b[0m\n\u001b[0;32m----> 1\u001b[0;31m xray.tabulate_xray_emissivity(temperature_range=[0.000862, 30.0], metallicity_range=[0.001, 10.0], \n\u001b[0m\u001b[1;32m      2\u001b[0m                               num_tbins=101, num_zbins=21, nH=2.0 )\n\u001b[1;32m      3\u001b[0m \u001b[0mxray\u001b[0m\u001b[0;34m.\u001b[0m\u001b[0msave_emissivity_table\u001b[0m\u001b[0;34m(\u001b[0m\u001b[0;34m\"./data/etable_05_2keV\"\u001b[0m\u001b[0;34m)\u001b[0m\u001b[0;34m\u001b[0m\u001b[0;34m\u001b[0m\u001b[0m\n\u001b[1;32m      4\u001b[0m \u001b[0;31m#xray.save_emissivity_table(\"./data/etable\")\u001b[0m\u001b[0;34m\u001b[0m\u001b[0;34m\u001b[0m\u001b[0m\n",
      "\u001b[0;32m~/Research/CGM_model_toolkit/cgm_models_wtoolkit/cgm_toolkit/xray_emissivity.py\u001b[0m in \u001b[0;36mtabulate_xray_emissivity\u001b[0;34m(self, temperature_range, metallicity_range, nH, num_tbins, num_zbins, use_log10)\u001b[0m\n\u001b[1;32m    263\u001b[0m         \u001b[0;32mfor\u001b[0m \u001b[0mit\u001b[0m\u001b[0;34m,\u001b[0m \u001b[0mt\u001b[0m \u001b[0;32min\u001b[0m \u001b[0menumerate\u001b[0m\u001b[0;34m(\u001b[0m\u001b[0mtqdm\u001b[0m\u001b[0;34m(\u001b[0m\u001b[0mself\u001b[0m\u001b[0;34m.\u001b[0m\u001b[0mtbins\u001b[0m\u001b[0;34m)\u001b[0m\u001b[0;34m)\u001b[0m \u001b[0;34m:\u001b[0m\u001b[0;34m\u001b[0m\u001b[0;34m\u001b[0m\u001b[0m\n\u001b[1;32m    264\u001b[0m             \u001b[0;32mfor\u001b[0m \u001b[0miz\u001b[0m\u001b[0;34m,\u001b[0m \u001b[0mz\u001b[0m \u001b[0;32min\u001b[0m \u001b[0menumerate\u001b[0m\u001b[0;34m(\u001b[0m\u001b[0mself\u001b[0m\u001b[0;34m.\u001b[0m\u001b[0mzbins\u001b[0m\u001b[0;34m)\u001b[0m\u001b[0;34m:\u001b[0m\u001b[0;34m\u001b[0m\u001b[0;34m\u001b[0m\u001b[0m\n\u001b[0;32m--> 265\u001b[0;31m                 \u001b[0mself\u001b[0m\u001b[0;34m.\u001b[0m\u001b[0metable\u001b[0m\u001b[0;34m[\u001b[0m\u001b[0mit\u001b[0m\u001b[0;34m,\u001b[0m \u001b[0miz\u001b[0m\u001b[0;34m]\u001b[0m \u001b[0;34m=\u001b[0m \u001b[0mself\u001b[0m\u001b[0;34m.\u001b[0m\u001b[0mcompute_xray_emissivity\u001b[0m \u001b[0;34m(\u001b[0m\u001b[0mt\u001b[0m\u001b[0;34m,\u001b[0m \u001b[0mz\u001b[0m\u001b[0;34m,\u001b[0m \u001b[0mnH\u001b[0m\u001b[0;34m)\u001b[0m\u001b[0;34m\u001b[0m\u001b[0;34m\u001b[0m\u001b[0m\n\u001b[0m\u001b[1;32m    266\u001b[0m \u001b[0;34m\u001b[0m\u001b[0m\n\u001b[1;32m    267\u001b[0m     \u001b[0;32mdef\u001b[0m \u001b[0msave_emissivity_table\u001b[0m \u001b[0;34m(\u001b[0m\u001b[0mself\u001b[0m\u001b[0;34m,\u001b[0m\u001b[0mfilename\u001b[0m\u001b[0;34m,\u001b[0m \u001b[0moverwrite\u001b[0m\u001b[0;34m=\u001b[0m\u001b[0;32mTrue\u001b[0m\u001b[0;34m)\u001b[0m \u001b[0;34m:\u001b[0m\u001b[0;34m\u001b[0m\u001b[0;34m\u001b[0m\u001b[0m\n",
      "\u001b[0;32m~/Research/CGM_model_toolkit/cgm_models_wtoolkit/cgm_toolkit/xray_emissivity.py\u001b[0m in \u001b[0;36mcompute_xray_emissivity\u001b[0;34m(self, temperature, metallicity, nH)\u001b[0m\n\u001b[1;32m    208\u001b[0m     \u001b[0;32mdef\u001b[0m \u001b[0mcompute_xray_emissivity\u001b[0m \u001b[0;34m(\u001b[0m\u001b[0mself\u001b[0m\u001b[0;34m,\u001b[0m \u001b[0mtemperature\u001b[0m\u001b[0;34m,\u001b[0m \u001b[0mmetallicity\u001b[0m\u001b[0;34m,\u001b[0m \u001b[0mnH\u001b[0m\u001b[0;34m)\u001b[0m \u001b[0;34m:\u001b[0m\u001b[0;34m\u001b[0m\u001b[0;34m\u001b[0m\u001b[0m\n\u001b[1;32m    209\u001b[0m \u001b[0;34m\u001b[0m\u001b[0m\n\u001b[0;32m--> 210\u001b[0;31m         \u001b[0mspectrum\u001b[0m \u001b[0;34m=\u001b[0m \u001b[0mself\u001b[0m\u001b[0;34m.\u001b[0m\u001b[0mcompute_cie_xray_spectrum\u001b[0m \u001b[0;34m(\u001b[0m\u001b[0mtemperature\u001b[0m\u001b[0;34m,\u001b[0m \u001b[0mmetallicity\u001b[0m\u001b[0;34m)\u001b[0m\u001b[0;34m\u001b[0m\u001b[0;34m\u001b[0m\u001b[0m\n\u001b[0m\u001b[1;32m    211\u001b[0m \u001b[0;34m\u001b[0m\u001b[0m\n\u001b[1;32m    212\u001b[0m         \u001b[0;32mif\u001b[0m \u001b[0mnH\u001b[0m \u001b[0;34m>\u001b[0m \u001b[0;36m0\u001b[0m\u001b[0;34m:\u001b[0m\u001b[0;34m\u001b[0m\u001b[0;34m\u001b[0m\u001b[0m\n",
      "\u001b[0;32m~/Research/CGM_model_toolkit/cgm_models_wtoolkit/cgm_toolkit/xray_emissivity.py\u001b[0m in \u001b[0;36mcompute_cie_xray_spectrum\u001b[0;34m(self, temperature, metallicity)\u001b[0m\n\u001b[1;32m    173\u001b[0m         \u001b[0mself\u001b[0m\u001b[0;34m.\u001b[0m\u001b[0mcie\u001b[0m\u001b[0;34m.\u001b[0m\u001b[0mset_eebrems\u001b[0m\u001b[0;34m(\u001b[0m\u001b[0;32mFalse\u001b[0m\u001b[0;34m)\u001b[0m\u001b[0;34m\u001b[0m\u001b[0;34m\u001b[0m\u001b[0m\n\u001b[1;32m    174\u001b[0m \u001b[0;34m\u001b[0m\u001b[0m\n\u001b[0;32m--> 175\u001b[0;31m         \u001b[0mspec\u001b[0m \u001b[0;34m+=\u001b[0m \u001b[0mself\u001b[0m\u001b[0;34m.\u001b[0m\u001b[0mcie\u001b[0m\u001b[0;34m.\u001b[0m\u001b[0mreturn_spectrum\u001b[0m\u001b[0;34m(\u001b[0m\u001b[0mtemperature\u001b[0m\u001b[0;34m)\u001b[0m\u001b[0;34m\u001b[0m\u001b[0;34m\u001b[0m\u001b[0m\n\u001b[0m\u001b[1;32m    176\u001b[0m \u001b[0;34m\u001b[0m\u001b[0m\n\u001b[1;32m    177\u001b[0m         \u001b[0;31m#for Z in Zlist[1:]:\u001b[0m\u001b[0;34m\u001b[0m\u001b[0;34m\u001b[0m\u001b[0m\n",
      "\u001b[0;32m/usr/local/lib/python3.9/site-packages/pyatomdb/spectrum.py\u001b[0m in \u001b[0;36mreturn_spectrum\u001b[0;34m(self, te, teunit, nearest, get_nearest_t, log_interp, dolines, docont, dopseudo)\u001b[0m\n\u001b[1;32m   2229\u001b[0m     \u001b[0mself\u001b[0m\u001b[0;34m.\u001b[0m\u001b[0mspectra\u001b[0m\u001b[0;34m.\u001b[0m\u001b[0mebins\u001b[0m \u001b[0;34m=\u001b[0m \u001b[0mself\u001b[0m\u001b[0;34m.\u001b[0m\u001b[0mspecbins\u001b[0m\u001b[0;34m\u001b[0m\u001b[0;34m\u001b[0m\u001b[0m\n\u001b[1;32m   2230\u001b[0m     \u001b[0mself\u001b[0m\u001b[0;34m.\u001b[0m\u001b[0mspectra\u001b[0m\u001b[0;34m.\u001b[0m\u001b[0mebins_checksum\u001b[0m\u001b[0;34m=\u001b[0m\u001b[0mhashlib\u001b[0m\u001b[0;34m.\u001b[0m\u001b[0mmd5\u001b[0m\u001b[0;34m(\u001b[0m\u001b[0mself\u001b[0m\u001b[0;34m.\u001b[0m\u001b[0mspectra\u001b[0m\u001b[0;34m.\u001b[0m\u001b[0mebins\u001b[0m\u001b[0;34m)\u001b[0m\u001b[0;34m.\u001b[0m\u001b[0mhexdigest\u001b[0m\u001b[0;34m(\u001b[0m\u001b[0;34m)\u001b[0m\u001b[0;34m\u001b[0m\u001b[0;34m\u001b[0m\u001b[0m\n\u001b[0;32m-> 2231\u001b[0;31m     s= self.spectra.return_spectrum(te, teunit=teunit, nearest=nearest,\\\n\u001b[0m\u001b[1;32m   2232\u001b[0m                                     \u001b[0melements\u001b[0m \u001b[0;34m=\u001b[0m \u001b[0mel_list\u001b[0m\u001b[0;34m,\u001b[0m \u001b[0mabundance\u001b[0m\u001b[0;34m=\u001b[0m\u001b[0mab\u001b[0m\u001b[0;34m,\u001b[0m\u001b[0;31m \u001b[0m\u001b[0;31m\\\u001b[0m\u001b[0;34m\u001b[0m\u001b[0;34m\u001b[0m\u001b[0m\n\u001b[1;32m   2233\u001b[0m                                     \u001b[0mbroaden_object\u001b[0m \u001b[0;34m=\u001b[0m \u001b[0mself\u001b[0m\u001b[0;34m.\u001b[0m\u001b[0mcdf\u001b[0m\u001b[0;34m,\u001b[0m\u001b[0;31m \u001b[0m\u001b[0;31m\\\u001b[0m\u001b[0;34m\u001b[0m\u001b[0;34m\u001b[0m\u001b[0m\n",
      "\u001b[0;32m/usr/local/lib/python3.9/site-packages/pyatomdb/spectrum.py\u001b[0m in \u001b[0;36mreturn_spectrum\u001b[0;34m(self, Te, teunit, nearest, elements, abundance, log_interp, broaden_object, dolines, docont, dopseudo, do_eebrems)\u001b[0m\n\u001b[1;32m   3015\u001b[0m                                   \u001b[0mabund\u001b[0m\u001b[0;34m\u001b[0m\u001b[0;34m\u001b[0m\u001b[0m\n\u001b[1;32m   3016\u001b[0m \u001b[0;34m\u001b[0m\u001b[0m\n\u001b[0;32m-> 3017\u001b[0;31m           ss2 = self.spectra[ikT[1]][Z].return_spectrum(self.ebins,\\\n\u001b[0m\u001b[1;32m   3018\u001b[0m                                   \u001b[0mkT\u001b[0m\u001b[0;34m,\u001b[0m\u001b[0;31m\\\u001b[0m\u001b[0;34m\u001b[0m\u001b[0;34m\u001b[0m\u001b[0m\n\u001b[1;32m   3019\u001b[0m                                   \u001b[0mebins_checksum\u001b[0m \u001b[0;34m=\u001b[0m \u001b[0mself\u001b[0m\u001b[0;34m.\u001b[0m\u001b[0mebins_checksum\u001b[0m\u001b[0;34m,\u001b[0m\u001b[0;31m\\\u001b[0m\u001b[0;34m\u001b[0m\u001b[0;34m\u001b[0m\u001b[0m\n",
      "\u001b[0;32m/usr/local/lib/python3.9/site-packages/pyatomdb/spectrum.py\u001b[0m in \u001b[0;36mreturn_spectrum\u001b[0;34m(self, eedges, Te, ebins_checksum, thermal_broadening, broaden_limit, velocity_broadening, teunit, broaden_object, dolines, docont, dopseudo)\u001b[0m\n\u001b[1;32m   3496\u001b[0m \u001b[0;34m\u001b[0m\u001b[0m\n\u001b[1;32m   3497\u001b[0m     \u001b[0;32mif\u001b[0m \u001b[0mdolines\u001b[0m\u001b[0;34m:\u001b[0m\u001b[0;34m\u001b[0m\u001b[0;34m\u001b[0m\u001b[0m\n\u001b[0;32m-> 3498\u001b[0;31m       spec+=self.lines.return_spec(eedges, T, ebins_checksum=ebins_checksum,\\\n\u001b[0m\u001b[1;32m   3499\u001b[0m                                   \u001b[0mthermal_broadening\u001b[0m\u001b[0;34m=\u001b[0m\u001b[0mthermal_broadening\u001b[0m\u001b[0;34m,\u001b[0m\u001b[0;31m\\\u001b[0m\u001b[0;34m\u001b[0m\u001b[0;34m\u001b[0m\u001b[0m\n\u001b[1;32m   3500\u001b[0m                                   \u001b[0mbroaden_limit\u001b[0m\u001b[0;34m=\u001b[0m\u001b[0mbroaden_limit\u001b[0m\u001b[0;34m,\u001b[0m\u001b[0;31m\\\u001b[0m\u001b[0;34m\u001b[0m\u001b[0;34m\u001b[0m\u001b[0m\n",
      "\u001b[0;32m/usr/local/lib/python3.9/site-packages/pyatomdb/spectrum.py\u001b[0m in \u001b[0;36mreturn_spec\u001b[0;34m(self, eedges, T, ebins_checksum, thermal_broadening, velocity_broadening, broaden_limit, broaden_object)\u001b[0m\n\u001b[1;32m   3776\u001b[0m         \u001b[0;32mfor\u001b[0m \u001b[0miline\u001b[0m \u001b[0;32min\u001b[0m \u001b[0migood\u001b[0m\u001b[0;34m:\u001b[0m\u001b[0;34m\u001b[0m\u001b[0;34m\u001b[0m\u001b[0m\n\u001b[1;32m   3777\u001b[0m \u001b[0;34m\u001b[0m\u001b[0m\n\u001b[0;32m-> 3778\u001b[0;31m           spec += broaden_object.broaden(const.HC_IN_KEV_A/llist['Lambda'][iline],\\\n\u001b[0m\u001b[1;32m   3779\u001b[0m                            width[iline],eedges)*llist['Epsilon'][iline]\n\u001b[1;32m   3780\u001b[0m \u001b[0;34m\u001b[0m\u001b[0m\n",
      "\u001b[0;32m/usr/local/lib/python3.9/site-packages/pyatomdb/spectrum.py\u001b[0m in \u001b[0;36mbroaden\u001b[0;34m(self, centroid, width, ebins)\u001b[0m\n\u001b[1;32m   1597\u001b[0m \u001b[0;34m\u001b[0m\u001b[0m\n\u001b[1;32m   1598\u001b[0m     \u001b[0;31m# move the energy grid\u001b[0m\u001b[0;34m\u001b[0m\u001b[0;34m\u001b[0m\u001b[0m\n\u001b[0;32m-> 1599\u001b[0;31m     \u001b[0metmp\u001b[0m \u001b[0;34m=\u001b[0m \u001b[0;34m(\u001b[0m\u001b[0mebins\u001b[0m\u001b[0;34m-\u001b[0m\u001b[0mcentroid\u001b[0m\u001b[0;34m)\u001b[0m\u001b[0;34m/\u001b[0m\u001b[0mwidth\u001b[0m\u001b[0;34m\u001b[0m\u001b[0;34m\u001b[0m\u001b[0m\n\u001b[0m\u001b[1;32m   1600\u001b[0m \u001b[0;34m\u001b[0m\u001b[0m\n\u001b[1;32m   1601\u001b[0m     \u001b[0;31m# interpolate to get the appropriate CDF values\u001b[0m\u001b[0;34m\u001b[0m\u001b[0;34m\u001b[0m\u001b[0m\n",
      "\u001b[0;31mKeyboardInterrupt\u001b[0m: "
     ]
    }
   ],
   "source": [
    "xray.tabulate_xray_emissivity(temperature_range=[0.000862, 30.0], metallicity_range=[0.001, 10.0], \n",
    "                              num_tbins=101, num_zbins=21, nH=2.0 )\n",
    "xray.save_emissivity_table(\"./data/etable_05_2keV\")\n",
    "#xray.save_emissivity_table(\"./data/etable\")"
   ]
  },
  {
   "cell_type": "code",
   "execution_count": 18,
   "metadata": {},
   "outputs": [
    {
     "name": "stdout",
     "output_type": "stream",
     "text": [
      "0.01 0.5\n"
     ]
    }
   ],
   "source": [
    "# Read table from file\n",
    "xray_soft.read_emissivity_table('./data/etable_001_05keV.hdf5')\n",
    "print (xray_soft.emin, xray_soft.emax)"
   ]
  },
  {
   "cell_type": "code",
   "execution_count": 22,
   "metadata": {},
   "outputs": [
    {
     "name": "stdout",
     "output_type": "stream",
     "text": [
      "[2.54930271e-29 7.40592523e-24 2.39808314e-24 1.21228357e-24]\n"
     ]
    }
   ],
   "source": [
    "kT = np.array([0.01,0.1, 1.0, 10.0])\n",
    "metal = np.array([1.0,1.0,1.0, 1.0])\n",
    "emiss = xray_soft.return_interpolated_emissivity(kT, metal)\n",
    "print (emiss)"
   ]
  },
  {
   "cell_type": "code",
   "execution_count": 23,
   "metadata": {},
   "outputs": [
    {
     "name": "stderr",
     "output_type": "stream",
     "text": [
      "<ipython-input-23-4444fdb0e846>:11: RuntimeWarning: divide by zero encountered in log10\n",
      "  c = ax.imshow(np.log10(xray_soft.etable.T), origin=\"lower\", extent=extent, aspect='auto')\n"
     ]
    },
    {
     "data": {
      "image/png": "[encoded data removed]",
      "text/plain": [
       "<Figure size 576x432 with 2 Axes>"
      ]
     },
     "metadata": {
      "needs_background": "light"
     },
     "output_type": "display_data"
    }
   ],
   "source": [
    "# Plot showing the emissivity table\n",
    "\n",
    "ltbins = np.log10(xray_soft.tbins)\n",
    "lzbins = np.log10(xray_soft.zbins)\n",
    "dx = (ltbins[1]-ltbins[0])/2.\n",
    "dy = (lzbins[1]-lzbins[0])/2.\n",
    "extent = [ltbins[0]-dx, ltbins[-1]+dx, lzbins[0]-dy, lzbins[-1]+dy]\n",
    "\n",
    "fig, ax= plt.subplots()\n",
    "\n",
    "c = ax.imshow(np.log10(xray_soft.etable.T), origin=\"lower\", extent=extent, aspect='auto')\n",
    "plt.colorbar(c)\n",
    "\n",
    "ax.set_xlabel(r'$\\log_{10}(T\\,[{\\rm keV}])$')\n",
    "ax.set_ylabel(r'$\\log_{10}Z/Z_\\odot$')\n",
    "#ax.set_title(r'$\\log_{10}\\Lambda_{X}(0.01-12\\,{\\rm keV})[{\\rm erg\\,s^{-1}cm^3}]$')\n",
    "ax.set_title(r'$\\log_{10}\\Lambda_{X}({\\rm eROSITA}(0.01-12\\,{\\rm keV}))[{\\rm cts\\,cm^5\\,s^{-1}}]$')\n",
    "\n",
    "\n",
    "plt.tight_layout()\n",
    "plt.show()"
   ]
  },
  {
   "cell_type": "code",
   "execution_count": 4,
   "metadata": {},
   "outputs": [],
   "source": [
    "#r (kpc)  M_DM (<r) (M_sun) n_H (cm^-3)  T (K)  P_th/k_B (K cm^-3) P_tot/k_B (K cm^-3) Mgas(<r) (Msun) E_th(<r) (erg)  E_nth(<r) (erg)  E_turb(<r) (erg)\n",
    "\n",
    "r, mDM, nH, T, Pth, Ptot, Mgas, Eth, Enth, Eturb = np.loadtxt(\"model_911_main_prop.txt\",unpack=True) "
   ]
  },
  {
   "cell_type": "code",
   "execution_count": 25,
   "metadata": {},
   "outputs": [],
   "source": [
    "K_to_keV = 8.61733e-08 \n",
    "kb = 1.36e-16\n",
    "mue = 1.14\n",
    "mu = 0.59\n",
    "\n",
    "pe_factor = mu / mue\n",
    "\n",
    "ngas = nH / mu\n",
    "temperature = T *  K_to_keV\n",
    "pressure = Pth * K_to_keV * pe_factor\n",
    "metallicity = 0.3"
   ]
  },
  {
   "cell_type": "code",
   "execution_count": 26,
   "metadata": {},
   "outputs": [
    {
     "data": {
      "text/plain": [
       "<matplotlib.legend.Legend at 0x11f20afd0>"
      ]
     },
     "execution_count": 26,
     "metadata": {},
     "output_type": "execute_result"
    },
    {
     "data": {
      "image/png": "[encoded data removed]",
      "text/plain": [
       "<Figure size 576x432 with 1 Axes>"
      ]
     },
     "metadata": {
      "needs_background": "light"
     },
     "output_type": "display_data"
    }
   ],
   "source": [
    "plt.loglog(r,nH, label=r'$n_{\\rm H}$')\n",
    "plt.loglog(r,ngas, label=r'$n_{\\rm gas}$')\n",
    "plt.xlabel(r'$r\\,[{\\rm kpc}]$')\n",
    "plt.ylabel(r'$n\\,[{\\rm cm^{-3}}]$')\n",
    "plt.grid(which='both')\n",
    "plt.legend()"
   ]
  },
  {
   "cell_type": "code",
   "execution_count": 42,
   "metadata": {},
   "outputs": [],
   "source": [
    "import cgm_profiles"
   ]
  },
  {
   "cell_type": "code",
   "execution_count": 43,
   "metadata": {},
   "outputs": [],
   "source": [
    "mass = 1e12\n",
    "redshift = 0.01\n",
    "halo_pro = cgm_profiles.HaloProfile(mass, redshift, r, pressure, ngas, metallicity, temperature=temperature)"
   ]
  },
  {
   "cell_type": "code",
   "execution_count": 44,
   "metadata": {},
   "outputs": [],
   "source": [
    "proj_ne = halo_pro.projected_electron_density_profile(r)"
   ]
  },
  {
   "cell_type": "code",
   "execution_count": 45,
   "metadata": {},
   "outputs": [
    {
     "data": {
      "text/plain": [
       "(1e+18, 1e+20)"
      ]
     },
     "execution_count": 45,
     "metadata": {},
     "output_type": "execute_result"
    },
    {
     "data": {
      "image/png": "[encoded data removed]",
      "text/plain": [
       "<Figure size 576x432 with 1 Axes>"
      ]
     },
     "metadata": {
      "needs_background": "light"
     },
     "output_type": "display_data"
    }
   ],
   "source": [
    "plt.loglog(r,proj_ne)\n",
    "plt.grid(which='both')\n",
    "plt.xlabel(r'$r\\,[{\\rm kpc}]$')\n",
    "plt.ylabel(r'$N_e\\,[{\\rm cm^{-2}}]$')\n",
    "plt.ylim(1e18, 1e20)"
   ]
  },
  {
   "cell_type": "code",
   "execution_count": 46,
   "metadata": {},
   "outputs": [],
   "source": [
    "proj_y = halo_pro.projected_y_profile(r)"
   ]
  },
  {
   "cell_type": "code",
   "execution_count": 47,
   "metadata": {},
   "outputs": [
    {
     "data": {
      "text/plain": [
       "(1e-10, 1e-08)"
      ]
     },
     "execution_count": 47,
     "metadata": {},
     "output_type": "execute_result"
    },
    {
     "data": {
      "image/png": "[encoded data removed]",
      "text/plain": [
       "<Figure size 576x432 with 1 Axes>"
      ]
     },
     "metadata": {
      "needs_background": "light"
     },
     "output_type": "display_data"
    }
   ],
   "source": [
    "plt.loglog(r,proj_y)\n",
    "plt.grid(which='both')\n",
    "plt.xlabel(r'$r\\,[{\\rm kpc}]$')\n",
    "plt.ylabel(r'$y$')\n",
    "plt.ylim(1e-10, 1e-8)"
   ]
  },
  {
   "cell_type": "code",
   "execution_count": null,
   "metadata": {},
   "outputs": [],
   "source": []
  }
 ],
 "metadata": {
  "kernelspec": {
   "display_name": "Python 3",
   "language": "python",
   "name": "python3"
  },
  "language_info": {
   "codemirror_mode": {
    "name": "ipython",
    "version": 3
   },
   "file_extension": ".py",
   "mimetype": "text/x-python",
   "name": "python",
   "nbconvert_exporter": "python",
   "pygments_lexer": "ipython3",
   "version": "3.9.7"
  }
 },
 "nbformat": 4,
 "nbformat_minor": 4
}
